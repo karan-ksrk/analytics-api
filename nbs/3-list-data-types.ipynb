{
 "cells": [
  {
   "cell_type": "code",
   "execution_count": 35,
   "metadata": {},
   "outputs": [
    {
     "data": {
      "text/plain": [
       "'http://localhost:8002/api/events/'"
      ]
     },
     "execution_count": 35,
     "metadata": {},
     "output_type": "execute_result"
    }
   ],
   "source": [
    "import requests\n",
    "from pprint import pprint\n",
    "path = \"/api/events/\"\n",
    "base_url = \"http://localhost:8002\"\n",
    "endpoint = f\"{base_url}{path}\"\n",
    "endpoint"
   ]
  },
  {
   "cell_type": "code",
   "execution_count": 49,
   "metadata": {},
   "outputs": [
    {
     "name": "stdout",
     "output_type": "stream",
     "text": [
      "[{'bucket': '2025-03-24T00:00:00Z', 'count': 2545, 'page': '/about'},\n",
      " {'bucket': '2025-03-24T00:00:00Z', 'count': 2435, 'page': '/contact'},\n",
      " {'bucket': '2025-03-24T00:00:00Z', 'count': 2516, 'page': '/pages'},\n",
      " {'bucket': '2025-03-24T00:00:00Z', 'count': 2504, 'page': 'pricing'}]\n"
     ]
    }
   ],
   "source": [
    "response = requests.get(endpoint, params={\"duration\": \"1 week\", \"pages\": []})\n",
    "if response.ok:\n",
    "    pprint(response.json())"
   ]
  }
 ],
 "metadata": {
  "kernelspec": {
   "display_name": "venv",
   "language": "python",
   "name": "python3"
  },
  "language_info": {
   "codemirror_mode": {
    "name": "ipython",
    "version": 3
   },
   "file_extension": ".py",
   "mimetype": "text/x-python",
   "name": "python",
   "nbconvert_exporter": "python",
   "pygments_lexer": "ipython3",
   "version": "3.12.5"
  }
 },
 "nbformat": 4,
 "nbformat_minor": 2
}
