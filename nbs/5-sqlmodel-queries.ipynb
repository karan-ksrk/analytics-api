{
 "cells": [
  {
   "cell_type": "code",
   "execution_count": 2,
   "metadata": {},
   "outputs": [],
   "source": [
    "import sys\n",
    "from pathlib import Path"
   ]
  },
  {
   "cell_type": "code",
   "execution_count": 3,
   "metadata": {},
   "outputs": [],
   "source": [
    "src_path = Path(\"../src\").resolve()\n",
    "sys.path.append(str(src_path))"
   ]
  },
  {
   "cell_type": "code",
   "execution_count": 4,
   "metadata": {},
   "outputs": [],
   "source": [
    "from api.db.session import engine\n",
    "from api.events.models import EventModel\n",
    "from sqlmodel import Session, select\n",
    "from pprint import pprint\n",
    "from timescaledb.hyperfunctions import time_bucket\n",
    "from sqlalchemy import func"
   ]
  },
  {
   "cell_type": "code",
   "execution_count": 5,
   "metadata": {},
   "outputs": [
    {
     "name": "stdout",
     "output_type": "stream",
     "text": [
      "SELECT eventmodel.id, eventmodel.time, eventmodel.page, eventmodel.description, eventmodel.updated_at \n",
      "FROM eventmodel ORDER BY eventmodel.updated_at DESC\n",
      " LIMIT 10\n",
      "\n",
      "SELECT eventmodel.id, eventmodel.time, eventmodel.page, eventmodel.description, eventmodel.updated_at \n",
      "FROM eventmodel ORDER BY eventmodel.updated_at DESC\n",
      " LIMIT :param_1\n"
     ]
    }
   ],
   "source": [
    "with Session(engine) as session:\n",
    "    query = select(EventModel).order_by(EventModel.updated_at.desc()).limit(10)\n",
    "    compiled_query = query.compile(compile_kwargs={\"literal_binds\": True})\n",
    "    print(compiled_query)\n",
    "    print(\"\")\n",
    "    print(str(query))"
   ]
  },
  {
   "cell_type": "code",
   "execution_count": 13,
   "metadata": {},
   "outputs": [
    {
     "name": "stdout",
     "output_type": "stream",
     "text": [
      "SELECT time_bucket('1 day'::interval, eventmodel.time) AS time_bucket_1, eventmodel.page, count(*) AS event_count \n",
      "FROM eventmodel \n",
      "WHERE eventmodel.page IN ('/about', 'pricing') GROUP BY time_bucket('1 day'::interval, eventmodel.time), eventmodel.page ORDER BY time_bucket('1 day'::interval, eventmodel.time), eventmodel.page\n",
      "[(datetime.datetime(2025, 3, 26, 0, 0, tzinfo=datetime.timezone.utc), '/about', 2545),\n",
      " (datetime.datetime(2025, 3, 26, 0, 0, tzinfo=datetime.timezone.utc), 'pricing', 2504)]\n"
     ]
    }
   ],
   "source": [
    "from datetime import datetime, timedelta, timezone\n",
    "with Session(engine) as session:\n",
    "    bucket = time_bucket(\"1 day\", EventModel.time)\n",
    "    start = datetime.now(timezone.utc) - timedelta(hours=1)\n",
    "    finish = datetime.now(timezone.utc) + timedelta(hours=1)\n",
    "    query = (\n",
    "        select(\n",
    "            bucket, \n",
    "            EventModel.page,\n",
    "            func.count().label(\"event_count\")\n",
    "            )\n",
    "        .where(\n",
    "            # EventModel.time > start, \n",
    "            # EventModel.time <= finish,\n",
    "            EventModel.page.in_([\"/about\", \"pricing\"])\n",
    "        )\n",
    "        .group_by(\n",
    "            bucket,\n",
    "            EventModel.page,\n",
    "            )\n",
    "        .order_by(\n",
    "            bucket,\n",
    "            EventModel.page\n",
    "            )\n",
    "        )\n",
    "    compiled_query = query.compile(compile_kwargs={\"literal_binds\": True})\n",
    "    print(compiled_query)\n",
    "    results = session.exec(query).fetchall()\n",
    "    pprint(results)"
   ]
  }
 ],
 "metadata": {
  "kernelspec": {
   "display_name": "venv",
   "language": "python",
   "name": "python3"
  },
  "language_info": {
   "codemirror_mode": {
    "name": "ipython",
    "version": 3
   },
   "file_extension": ".py",
   "mimetype": "text/x-python",
   "name": "python",
   "nbconvert_exporter": "python",
   "pygments_lexer": "ipython3",
   "version": "3.12.5"
  }
 },
 "nbformat": 4,
 "nbformat_minor": 2
}
